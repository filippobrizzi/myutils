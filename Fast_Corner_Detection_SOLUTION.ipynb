{
  "nbformat": 4,
  "nbformat_minor": 0,
  "metadata": {
    "colab": {
      "provenance": [],
      "include_colab_link": true
    },
    "kernelspec": {
      "name": "python3",
      "display_name": "Python 3"
    },
    "language_info": {
      "name": "python"
    }
  },
  "cells": [
    {
      "cell_type": "markdown",
      "metadata": {
        "id": "view-in-github",
        "colab_type": "text"
      },
      "source": [
        "<a href=\"https://colab.research.google.com/github/filippobrizzi/myutils/blob/master/Fast_Corner_Detection_SOLUTION.ipynb\" target=\"_parent\"><img src=\"https://colab.research.google.com/assets/colab-badge.svg\" alt=\"Open In Colab\"/></a>"
      ]
    },
    {
      "cell_type": "markdown",
      "source": [
        "#Interview\n",
        "\n",
        "Interview structure, 1 hour 30 min total:\n",
        "* 15 min introducing the problem.\n",
        "* 1 hour coding on your own.\n",
        "* 15 min discussing the solution together.\n",
        "\n",
        "##Question\n",
        "### FAST corner detection\n",
        "Given a grayscale image, detect all keypoints on the image using a FAST corner detector.\n",
        "\n",
        "###Details\n",
        "* Use only the standard C++ library in the implementation, plus the provided code. The code should not have third-party dependencies.\n",
        "  * Feel free to modify the provided code if needed.\n",
        "* You can browse the internet for any resource.\n",
        "* Work on the standard FAST algorithm (not the machine learning one).\n",
        "\n",
        "### Focus\n",
        "Your focus should be (in order of importance):\n",
        "* Correctness: the code does what it is expected.\n",
        "* Design: correctly break down the code into functions and classes.\n",
        "* Performance: the code is optimal in speed and accuracy\n",
        "\n",
        "> Consider the non-maximal suppression step as a bonus. Focus on design and performance of the other steps before tackling it.\n",
        "\n"
      ],
      "metadata": {
        "id": "7Vl2_kjJC4Xw"
      }
    },
    {
      "cell_type": "markdown",
      "source": [
        "## Code"
      ],
      "metadata": {
        "id": "Nrv9LeBpD80y"
      }
    },
    {
      "cell_type": "markdown",
      "source": [
        "### Prepare environment"
      ],
      "metadata": {
        "id": "jTy_Dz3qED-Q"
      }
    },
    {
      "cell_type": "code",
      "source": [
        "%%script bash\n",
        "apt-get install -y -qq libopencv-dev python3-opencv\n",
        "\n",
        "wget -O van.webp https://public.das.arrival.com/src/images/2a36deb2-d9c4-429f-b13b-ef052c1eb646_Configurator_Image_1_1.webp\n"
      ],
      "metadata": {
        "id": "ruNCVwqWzBa-",
        "colab": {
          "base_uri": "https://localhost:8080/"
        },
        "outputId": "09b5e16f-95d4-41d9-c3fe-bd1fd54445e6"
      },
      "execution_count": null,
      "outputs": [
        {
          "output_type": "stream",
          "name": "stdout",
          "text": [
            "Selecting previously unselected package python3-numpy.\r\n",
            "(Reading database ... \r(Reading database ... 5%\r(Reading database ... 10%\r(Reading database ... 15%\r(Reading database ... 20%\r(Reading database ... 25%\r(Reading database ... 30%\r(Reading database ... 35%\r(Reading database ... 40%\r(Reading database ... 45%\r(Reading database ... 50%\r(Reading database ... 55%\r(Reading database ... 60%\r(Reading database ... 65%\r(Reading database ... 70%\r(Reading database ... 75%\r(Reading database ... 80%\r(Reading database ... 85%\r(Reading database ... 90%\r(Reading database ... 95%\r(Reading database ... 100%\r(Reading database ... 124016 files and directories currently installed.)\r\n",
            "Preparing to unpack .../python3-numpy_1%3a1.13.3-2ubuntu1_amd64.deb ...\r\n",
            "Unpacking python3-numpy (1:1.13.3-2ubuntu1) ...\r\n",
            "Selecting previously unselected package python3-opencv.\r\n",
            "Preparing to unpack .../python3-opencv_3.2.0+dfsg-4ubuntu0.1_amd64.deb ...\r\n",
            "Unpacking python3-opencv (3.2.0+dfsg-4ubuntu0.1) ...\r\n",
            "Setting up python3-numpy (1:1.13.3-2ubuntu1) ...\r\n",
            "/usr/lib/python3.8/subprocess.py:842: RuntimeWarning: line buffering (buffering=1) isn't supported in binary mode, the default buffer size will be used\r\n",
            "  self.stdin = io.open(p2cwrite, 'wb', bufsize)\r\n",
            "Setting up python3-opencv (3.2.0+dfsg-4ubuntu0.1) ...\r\n",
            "Processing triggers for man-db (2.8.3-2ubuntu0.1) ...\r\n"
          ]
        },
        {
          "output_type": "stream",
          "name": "stderr",
          "text": [
            "--2022-12-19 10:58:15--  https://public.das.arrival.com/src/images/2a36deb2-d9c4-429f-b13b-ef052c1eb646_Configurator_Image_1_1.webp\n",
            "Resolving public.das.arrival.com (public.das.arrival.com)... 172.64.153.193, 104.18.34.63, 2606:4700:4400::6812:223f, ...\n",
            "Connecting to public.das.arrival.com (public.das.arrival.com)|172.64.153.193|:443... connected.\n",
            "HTTP request sent, awaiting response... 200 OK\n",
            "Length: 45078 (44K) [image/webp]\n",
            "Saving to: ‘van.webp’\n",
            "\n",
            "     0K .......... .......... .......... .......... ....      100% 4.00M=0.01s\n",
            "\n",
            "2022-12-19 10:58:15 (4.00 MB/s) - ‘van.webp’ saved [45078/45078]\n",
            "\n"
          ]
        }
      ]
    },
    {
      "cell_type": "markdown",
      "source": [
        "### Write your main code here\n",
        "\n",
        "This script writes the content of the code snipped to `main.cpp`"
      ],
      "metadata": {
        "id": "SUGD6LvPEGMD"
      }
    },
    {
      "cell_type": "code",
      "source": [
        "%%writefile CMakeLists.txt\n",
        "\n",
        "cmake_minimum_required(VERSION 3.5)\n",
        "\n",
        "project(FAST_corner)\n",
        "\n",
        "set(CMAKE_CXX_STANDARD 17)\n",
        "find_package(OpenCV REQUIRED)\n",
        "include_directories(${OpenCV_INCLUDE_DIRS})\n",
        "add_executable(fast_corner main.cpp)\n",
        "target_link_libraries(fast_corner ${OpenCV_LIBS})\n"
      ],
      "metadata": {
        "colab": {
          "base_uri": "https://localhost:8080/"
        },
        "id": "bBIE1PCvT8X9",
        "outputId": "67ab9a20-7e5c-427d-8dcf-c8343645a459"
      },
      "execution_count": null,
      "outputs": [
        {
          "output_type": "stream",
          "name": "stdout",
          "text": [
            "Writing CMakeLists.txt\n"
          ]
        }
      ]
    },
    {
      "cell_type": "code",
      "source": [
        "%%writefile fast_corner_support.h\n",
        "#include <vector>\n",
        "#include <cstdint>\n",
        "\n",
        "struct Corner {\n",
        "  Corner(int u, int v) : u(u), v(v) {}\n",
        "  int u = -1;\n",
        "  int v = -1;\n",
        "};\n",
        "\n",
        "//# NOTE: feel free to change or add code to this class if needed.\n",
        "struct Image {\n",
        "  Image(int cols, int rows) : cols(cols), rows(rows) {\n",
        "    data.resize(cols * rows, 0);\n",
        "  }\n",
        "  Image(int cols, int rows, std::vector<uint8_t> data) : cols(cols), rows(rows), data(std::move(data)) {\n",
        "  }\n",
        "  Image() = default;\n",
        "\n",
        "  auto operator()(int col, int row) -> uint8_t& {\n",
        "    return data[row * cols + col];\n",
        "  }\n",
        "  auto operator()(int col, int row) const -> uint8_t {\n",
        "    return data[row * cols + col];\n",
        "  }\n",
        "\n",
        "  int cols;\n",
        "  int rows;\n",
        "  std::vector<uint8_t> data;\n",
        "};\n",
        "\n"
      ],
      "metadata": {
        "colab": {
          "base_uri": "https://localhost:8080/"
        },
        "id": "SM8nlRWz7lfY",
        "outputId": "24bcc463-aeb1-47e2-bd11-c558bf9902c0"
      },
      "execution_count": null,
      "outputs": [
        {
          "output_type": "stream",
          "name": "stdout",
          "text": [
            "Writing fast_corner_support.h\n"
          ]
        }
      ]
    },
    {
      "cell_type": "code",
      "source": [
        "%%writefile fast_corner.h\n",
        "#include \"fast_corner_support.h\"\n",
        "\n",
        "#include <vector>\n",
        "#include <array>\n",
        "\n",
        "struct FASTCornerDetectorParams{\n",
        "  int threshold = 10;\n",
        "  int contiguos_pixels = 12;\n",
        "};\n",
        "\n",
        "constexpr std::array<std::pair<int, int>, 16> circle_idx_offset = {{\n",
        "  {0, 3},\n",
        "  {1, 3},\n",
        "  {2, 2},\n",
        "  {3, 1},\n",
        "  {3, 0},\n",
        "  {3, -1},\n",
        "  {2, -2},\n",
        "  {1, -3},\n",
        "  {0, -3},\n",
        "  {-1, -3},\n",
        "  {-2, -2},\n",
        "  {-3, -1},\n",
        "  {-3, 0},\n",
        "  {-3, 1},\n",
        "  {-2, 2},\n",
        "  {-1, 3}\n",
        "}};\n",
        "\n",
        "auto bresenhamCircle(const Image& src, int u, int v) -> std::array<uint8_t, 16> {\n",
        "    std::array<uint8_t, 16> pixels;\n",
        "    for (int i = 0; i < 16; ++i) {\n",
        "        int uc = u + circle_idx_offset[i].first;\n",
        "        int vc = v + circle_idx_offset[i].second;\n",
        "        pixels[i] = src(uc, vc);\n",
        "    }\n",
        "    return pixels;\n",
        "}\n",
        "\n",
        "auto isFastCorner(const Image& src, int u, int v, int threshold, int contiguos_pixels) -> bool {\n",
        "    auto pixels = bresenhamCircle(src, u, v);\n",
        "    auto ip = src(u, v);\n",
        "    auto ip_plus_t = ip + threshold;\n",
        "    auto ip_minus_t = ip - threshold;\n",
        "    int current_contiguos_pixels = 0;\n",
        "    uint8_t previous = 0;\n",
        "    bool one_loop_completed = false;\n",
        "    for (int i = 0; i < 16; ++i) {\n",
        "        auto px = pixels[i];\n",
        "        if (px > ip_plus_t) {\n",
        "            if (previous > ip_plus_t) {\n",
        "                if (++current_contiguos_pixels >= contiguos_pixels) {\n",
        "                    return true;\n",
        "                }\n",
        "            } else {\n",
        "                current_contiguos_pixels = 1;\n",
        "            }\n",
        "        } else if (px < ip_minus_t) {\n",
        "            if (previous < ip_minus_t) {\n",
        "                if (++current_contiguos_pixels >= contiguos_pixels) {\n",
        "                    return true;\n",
        "                }\n",
        "            } else {\n",
        "                current_contiguos_pixels = 1;\n",
        "            }\n",
        "        } else {\n",
        "            current_contiguos_pixels = 0;\n",
        "        }\n",
        "        previous = px;\n",
        "\n",
        "        if (i == 15 && !one_loop_completed) {\n",
        "            i = -1;\n",
        "            one_loop_completed = true;\n",
        "        }\n",
        "    }\n",
        "    return false;\n",
        "}\n",
        "\n",
        "\n",
        "auto cornerFAST(const Image& src, const FASTCornerDetectorParams& params) -> std::vector<Corner> {\n",
        "  std::vector<Corner> corners;\n",
        "  for (int col = 3; col < src.cols-3; ++col) {\n",
        "      for (int row = 3; row < src.rows-3; ++row) {\n",
        "          if (isFastCorner(src, col, row, params.threshold, params.contiguos_pixels)) {\n",
        "              corners.emplace_back(Corner(col, row));\n",
        "          }\n",
        "      }\n",
        "  }\n",
        "  return corners;\n",
        "}\n",
        "\n",
        "\n"
      ],
      "metadata": {
        "colab": {
          "base_uri": "https://localhost:8080/"
        },
        "id": "gtEliev9aWyM",
        "outputId": "0e130cf7-792e-4c0a-d937-4520a9b4f712"
      },
      "execution_count": null,
      "outputs": [
        {
          "output_type": "stream",
          "name": "stdout",
          "text": [
            "Writing fast_corner.h\n"
          ]
        }
      ]
    },
    {
      "cell_type": "code",
      "execution_count": null,
      "metadata": {
        "colab": {
          "base_uri": "https://localhost:8080/"
        },
        "id": "VICNItybxvwR",
        "outputId": "08d41aa0-ab4a-4069-939d-7328431c1b9e"
      },
      "outputs": [
        {
          "output_type": "stream",
          "name": "stdout",
          "text": [
            "Writing main.cpp\n"
          ]
        }
      ],
      "source": [
        "%%writefile main.cpp\n",
        "#include \"fast_corner.h\"\n",
        "\n",
        "#include <algorithm>\n",
        "#include <iostream>\n",
        "#include <cstdint>\n",
        "#include <vector>\n",
        "#include <fstream>\n",
        "\n",
        "#include \"opencv2/highgui/highgui.hpp\"\n",
        "#include \"opencv2/opencv.hpp\"\n",
        "\n",
        "auto convert(const cv::Mat &mat) -> Image {\n",
        "  std::vector<uint8_t> array(mat.total() * mat.channels());\n",
        "  array.assign(mat.data, mat.data + mat.total() * mat.channels());\n",
        "  return Image(mat.cols, mat.rows, array);\n",
        "}\n",
        "\n",
        "auto paintCorners(const cv::Mat &mat, const std::vector<Corner> corners)\n",
        "    -> cv::Mat {\n",
        "  cv::Mat dst;\n",
        "  mat.copyTo(dst);\n",
        "  for (const auto &corner : corners) {\n",
        "    cv::circle(dst, cv::Point(corner.u, corner.v), 5, cv::Scalar(255, 255, 255), 2, 8, 0);\n",
        "  }\n",
        "  return dst;\n",
        "}\n",
        "\n",
        "auto cornerFAST_demo(const cv::Mat &src)\n",
        "    -> std::vector<Corner> {\n",
        "  auto fast = cv::FastFeatureDetector::create();\n",
        "  std::vector<cv::KeyPoint> keypoints;\n",
        "  fast->detect(src, keypoints);\n",
        "  std::vector<Corner> corners;\n",
        "  for (const auto& kp: keypoints) {\n",
        "    corners.emplace_back(Corner(kp.pt.x, kp.pt.y));\n",
        "  }\n",
        "  return corners;\n",
        "}\n",
        "\n",
        "auto getInputImage() -> cv::Mat {\n",
        "  cv::Mat img = cv::imread(\"van.webp\", cv::IMREAD_GRAYSCALE);\n",
        "  if (img.channels() == 3) {\n",
        "      cv::cvtColor(img, img, cv::COLOR_RGB2GRAY);\n",
        "  }\n",
        "  cv::resize(img, img, cv::Size(642, 400));\n",
        "  cv::imwrite(\"van.png\", img);\n",
        "  return img;\n",
        "}\n",
        "\n",
        "int main(int argc, char **argv) {\n",
        "  auto img = getInputImage();\n",
        "\n",
        "  auto corners_cv = cornerFAST_demo(img);\n",
        "  cv::imwrite(\"van_kp_cv.png\", paintCorners(img, corners_cv));\n",
        "\n",
        "  cv::Mat blur;\n",
        "  cv::blur(img, blur, cv::Size(3,3));\n",
        "  auto arr = convert(blur);\n",
        "  FASTCornerDetectorParams params{};\n",
        "  auto corners = cornerFAST(arr, params);\n",
        "  cv::imwrite(\"van_kp.png\", paintCorners(img, corners));\n",
        "  return 0;\n",
        "}\n"
      ]
    },
    {
      "cell_type": "markdown",
      "source": [
        "### Build and run\n",
        "\n",
        "Make sure you first run the `write main.cpp` script before"
      ],
      "metadata": {
        "id": "AuloXJ5PEwHu"
      }
    },
    {
      "cell_type": "code",
      "source": [
        "%%script bash\n",
        "mkdir -p build\n",
        "cd build\n",
        "cmake ..\n",
        "make -j8"
      ],
      "metadata": {
        "id": "tb0PKaW5yVxB",
        "colab": {
          "base_uri": "https://localhost:8080/"
        },
        "outputId": "d01d924b-888b-4844-df46-cf5d444612aa"
      },
      "execution_count": null,
      "outputs": [
        {
          "output_type": "stream",
          "name": "stdout",
          "text": [
            "-- The C compiler identification is GNU 7.5.0\n",
            "-- The CXX compiler identification is GNU 7.5.0\n",
            "-- Detecting C compiler ABI info\n",
            "-- Detecting C compiler ABI info - done\n",
            "-- Check for working C compiler: /usr/bin/cc - skipped\n",
            "-- Detecting C compile features\n",
            "-- Detecting C compile features - done\n",
            "-- Detecting CXX compiler ABI info\n",
            "-- Detecting CXX compiler ABI info - done\n",
            "-- Check for working CXX compiler: /usr/bin/c++ - skipped\n",
            "-- Detecting CXX compile features\n",
            "-- Detecting CXX compile features - done\n",
            "-- Found OpenCV: /usr (found version \"3.2.0\") \n",
            "-- Configuring done\n",
            "-- Generating done\n",
            "-- Build files have been written to: /content/build\n",
            "[ 50%] Building CXX object CMakeFiles/fast_corner.dir/main.cpp.o\n",
            "[100%] Linking CXX executable fast_corner\n",
            "[100%] Built target fast_corner\n"
          ]
        }
      ]
    },
    {
      "cell_type": "code",
      "source": [
        "%%script bash\n",
        "./build/fast_corner"
      ],
      "metadata": {
        "id": "iXqtpzGbAuyg"
      },
      "execution_count": null,
      "outputs": []
    },
    {
      "cell_type": "markdown",
      "source": [
        "### Check output"
      ],
      "metadata": {
        "id": "W5DxON-eEz4t"
      }
    },
    {
      "cell_type": "code",
      "source": [
        "from google.colab.patches import cv2_imshow\n",
        "import numpy as np\n",
        "import cv2\n",
        "\n",
        "img = cv2.imread('van.png', cv2.IMREAD_GRAYSCALE)\n",
        "img_kp_cv = cv2.imread('van_kp_cv.png', cv2.IMREAD_GRAYSCALE)\n",
        "img_kp = cv2.imread('van_kp.png', cv2.IMREAD_GRAYSCALE)\n",
        "horizontal = np.hstack((img, img_kp_cv, img_kp))\n",
        "cv2_imshow(horizontal)"
      ],
      "metadata": {
        "id": "jAHycBPY1wGB",
        "colab": {
          "base_uri": "https://localhost:8080/",
          "height": 390
        },
        "outputId": "e0e9de60-af51-436e-8c9e-12f0ac12e680"
      },
      "execution_count": null,
      "outputs": [
        {
          "output_type": "display_data",
          "data": {
            "text/plain": [
              "<PIL.Image.Image image mode=L size=1926x400 at 0x7F52BFB047F0>"
            ],
            "image/png": "[encoded data removed]"
          },
          "metadata": {}
        }
      ]
    },
    {
      "cell_type": "code",
      "source": [],
      "metadata": {
        "id": "2mcfXuSrV6bZ"
      },
      "execution_count": null,
      "outputs": []
    }
  ]
}